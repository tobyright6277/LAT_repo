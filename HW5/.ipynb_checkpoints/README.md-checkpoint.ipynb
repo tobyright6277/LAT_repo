{
 "cells": [
  {
   "cell_type": "markdown",
   "id": "1c38908f",
   "metadata": {},
   "source": [
    "<p>構想: 適用於小孩學習分辨顏色的階段，通過圖片讓他們學會分辨出圖片使用的主要顏色</p>"
   ]
  },
  {
   "cell_type": "markdown",
   "id": "6396e90d",
   "metadata": {},
   "source": [
    "![圖片](https://github.com/tobyright6277/LAT_repo/blob/main/HW5/Example1.png\"Example1\")"
   ]
  },
  {
   "cell_type": "markdown",
   "id": "aaddac37",
   "metadata": {},
   "source": [
    "![圖片](https://github.com/tobyright6277/LAT_repo/blob/main/HW5/Example2.png\"Example2\")"
   ]
  },
  {
   "cell_type": "markdown",
   "id": "9460c938",
   "metadata": {},
   "source": [
    "![圖片](https://github.com/tobyright6277/LAT_repo/blob/main/HW5/Example3.png\"Example3\")"
   ]
  }
 ],
 "metadata": {
  "kernelspec": {
   "display_name": "Python 3 (ipykernel)",
   "language": "python",
   "name": "python3"
  },
  "language_info": {
   "codemirror_mode": {
    "name": "ipython",
    "version": 3
   },
   "file_extension": ".py",
   "mimetype": "text/x-python",
   "name": "python",
   "nbconvert_exporter": "python",
   "pygments_lexer": "ipython3",
   "version": "3.9.13"
  }
 },
 "nbformat": 4,
 "nbformat_minor": 5
}
