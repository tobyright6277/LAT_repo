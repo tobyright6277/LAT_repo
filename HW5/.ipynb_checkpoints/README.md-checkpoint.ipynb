{
 "cells": [
  {
   "cell_type": "markdown",
   "id": "8bc2509f",
   "metadata": {},
   "source": [
    "構思：適用於小孩學習顏色的階段，希望他們學會在看到圖片後辨認出圖片內主要的顏色。"
   ]
  },
  {
   "cell_type": "markdown",
   "id": "5bb04317",
   "metadata": {},
   "source": [
    "![图片alt](https://1drv.ms/i/s!AqpzQHcNPc51pBrTGTdNJORohqC8?e=CcBIc7 \"图片title\")"
   ]
  }
 ],
 "metadata": {
  "kernelspec": {
   "display_name": "Python 3 (ipykernel)",
   "language": "python",
   "name": "python3"
  },
  "language_info": {
   "codemirror_mode": {
    "name": "ipython",
    "version": 3
   },
   "file_extension": ".py",
   "mimetype": "text/x-python",
   "name": "python",
   "nbconvert_exporter": "python",
   "pygments_lexer": "ipython3",
   "version": "3.9.13"
  }
 },
 "nbformat": 4,
 "nbformat_minor": 5
}
