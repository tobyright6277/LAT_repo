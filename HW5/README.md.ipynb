{
 "cells": [
  {
   "cell_type": "markdown",
   "id": "d3ecd131",
   "metadata": {},
   "source": [
    "<p>構思：選擇圖片後可分析出使用的主要顏色，適用於正在學習分辨顏色的小孩。</p>"
   ]
  },
  {
   "cell_type": "markdown",
   "id": "e40b3551",
   "metadata": {},
   "source": [
    "![圖片](https://github.com/tobyright6277/LAT_repo/blob/main/HW5/Example1.png \"Example1\")   "
   ]
  },
  {
   "cell_type": "markdown",
   "id": "77a981d8",
   "metadata": {},
   "source": [
    "![圖片](https://github.com/tobyright6277/LAT_repo/blob/main/HW5/Example2.png \"Example2\")  "
   ]
  },
  {
   "cell_type": "markdown",
   "id": "91a8522f",
   "metadata": {},
   "source": [
    "![圖片](https://github.com/tobyright6277/LAT_repo/blob/main/HW5/Example3.png \"Example3\")  "
   ]
  }
 ],
 "metadata": {
  "kernelspec": {
   "display_name": "Python 3 (ipykernel)",
   "language": "python",
   "name": "python3"
  },
  "language_info": {
   "codemirror_mode": {
    "name": "ipython",
    "version": 3
   },
   "file_extension": ".py",
   "mimetype": "text/x-python",
   "name": "python",
   "nbconvert_exporter": "python",
   "pygments_lexer": "ipython3",
   "version": "3.9.13"
  }
 },
 "nbformat": 4,
 "nbformat_minor": 5
}
