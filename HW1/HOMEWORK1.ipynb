{
 "cells": [
  {
   "cell_type": "markdown",
   "id": "e64c4d99",
   "metadata": {},
   "source": [
    "#106-110學年僑生、港澳生數及在學比率"
   ]
  },
  {
   "cell_type": "code",
   "execution_count": 1,
   "id": "b5385918",
   "metadata": {},
   "outputs": [],
   "source": [
    "import pandas as pd"
   ]
  },
  {
   "cell_type": "code",
   "execution_count": 2,
   "id": "33c293cf",
   "metadata": {},
   "outputs": [
    {
     "data": {
      "text/html": [
       "<div>\n",
       "<style scoped>\n",
       "    .dataframe tbody tr th:only-of-type {\n",
       "        vertical-align: middle;\n",
       "    }\n",
       "\n",
       "    .dataframe tbody tr th {\n",
       "        vertical-align: top;\n",
       "    }\n",
       "\n",
       "    .dataframe thead th {\n",
       "        text-align: right;\n",
       "    }\n",
       "</style>\n",
       "<table border=\"1\" class=\"dataframe\">\n",
       "  <thead>\n",
       "    <tr style=\"text-align: right;\">\n",
       "      <th></th>\n",
       "      <th>學年度</th>\n",
       "      <th>設立別</th>\n",
       "      <th>學校類別</th>\n",
       "      <th>學校統計處代碼</th>\n",
       "      <th>學校名稱</th>\n",
       "      <th>系所代碼</th>\n",
       "      <th>系所名稱</th>\n",
       "      <th>學制班別(日間)</th>\n",
       "      <th>僑生小計</th>\n",
       "      <th>僑生男</th>\n",
       "      <th>僑生女</th>\n",
       "      <th>港澳生小計</th>\n",
       "      <th>港澳生男</th>\n",
       "      <th>港澳生女</th>\n",
       "      <th>僑生及港澳生數之在學比率(%)</th>\n",
       "    </tr>\n",
       "  </thead>\n",
       "  <tbody>\n",
       "    <tr>\n",
       "      <th>0</th>\n",
       "      <td>106</td>\n",
       "      <td>公立</td>\n",
       "      <td>一般大學</td>\n",
       "      <td>0001</td>\n",
       "      <td>國立政治大學</td>\n",
       "      <td>01111001</td>\n",
       "      <td>教育學系</td>\n",
       "      <td>學士班(日間)</td>\n",
       "      <td>19</td>\n",
       "      <td>2</td>\n",
       "      <td>17</td>\n",
       "      <td>5</td>\n",
       "      <td>3</td>\n",
       "      <td>2</td>\n",
       "      <td>10.04</td>\n",
       "    </tr>\n",
       "    <tr>\n",
       "      <th>1</th>\n",
       "      <td>106</td>\n",
       "      <td>公立</td>\n",
       "      <td>一般大學</td>\n",
       "      <td>0001</td>\n",
       "      <td>國立政治大學</td>\n",
       "      <td>01111001</td>\n",
       "      <td>教育學系</td>\n",
       "      <td>碩士班(日間)</td>\n",
       "      <td>3</td>\n",
       "      <td>2</td>\n",
       "      <td>1</td>\n",
       "      <td>0</td>\n",
       "      <td>0</td>\n",
       "      <td>0</td>\n",
       "      <td>6.52</td>\n",
       "    </tr>\n",
       "    <tr>\n",
       "      <th>2</th>\n",
       "      <td>106</td>\n",
       "      <td>公立</td>\n",
       "      <td>一般大學</td>\n",
       "      <td>0001</td>\n",
       "      <td>國立政治大學</td>\n",
       "      <td>01114005</td>\n",
       "      <td>教育行政與政策研究所</td>\n",
       "      <td>碩士班(日間)</td>\n",
       "      <td>1</td>\n",
       "      <td>1</td>\n",
       "      <td>0</td>\n",
       "      <td>1</td>\n",
       "      <td>0</td>\n",
       "      <td>1</td>\n",
       "      <td>4.26</td>\n",
       "    </tr>\n",
       "    <tr>\n",
       "      <th>3</th>\n",
       "      <td>106</td>\n",
       "      <td>公立</td>\n",
       "      <td>一般大學</td>\n",
       "      <td>0001</td>\n",
       "      <td>國立政治大學</td>\n",
       "      <td>01131002</td>\n",
       "      <td>華語文教學博士學位學程</td>\n",
       "      <td>博士班</td>\n",
       "      <td>1</td>\n",
       "      <td>0</td>\n",
       "      <td>1</td>\n",
       "      <td>0</td>\n",
       "      <td>0</td>\n",
       "      <td>0</td>\n",
       "      <td>5.26</td>\n",
       "    </tr>\n",
       "    <tr>\n",
       "      <th>4</th>\n",
       "      <td>106</td>\n",
       "      <td>公立</td>\n",
       "      <td>一般大學</td>\n",
       "      <td>0001</td>\n",
       "      <td>國立政治大學</td>\n",
       "      <td>01131002</td>\n",
       "      <td>華語文教學碩士學位學程</td>\n",
       "      <td>碩士班(日間)</td>\n",
       "      <td>2</td>\n",
       "      <td>0</td>\n",
       "      <td>2</td>\n",
       "      <td>1</td>\n",
       "      <td>0</td>\n",
       "      <td>1</td>\n",
       "      <td>5.26</td>\n",
       "    </tr>\n",
       "  </tbody>\n",
       "</table>\n",
       "</div>"
      ],
      "text/plain": [
       "   學年度 設立別  學校類別 學校統計處代碼    學校名稱      系所代碼         系所名稱 學制班別(日間)  僑生小計  僑生男  \\\n",
       "0  106  公立  一般大學    0001  國立政治大學  01111001         教育學系  學士班(日間)    19    2   \n",
       "1  106  公立  一般大學    0001  國立政治大學  01111001         教育學系  碩士班(日間)     3    2   \n",
       "2  106  公立  一般大學    0001  國立政治大學  01114005   教育行政與政策研究所  碩士班(日間)     1    1   \n",
       "3  106  公立  一般大學    0001  國立政治大學  01131002  華語文教學博士學位學程      博士班     1    0   \n",
       "4  106  公立  一般大學    0001  國立政治大學  01131002  華語文教學碩士學位學程  碩士班(日間)     2    0   \n",
       "\n",
       "   僑生女  港澳生小計  港澳生男  港澳生女  僑生及港澳生數之在學比率(%)  \n",
       "0   17      5     3     2            10.04  \n",
       "1    1      0     0     0             6.52  \n",
       "2    0      1     0     1             4.26  \n",
       "3    1      0     0     0             5.26  \n",
       "4    2      1     0     1             5.26  "
      ]
     },
     "execution_count": 2,
     "metadata": {},
     "output_type": "execute_result"
    }
   ],
   "source": [
    "data = pd.read_csv('okay.csv')\n",
    "data.head()"
   ]
  },
  {
   "cell_type": "markdown",
   "id": "6ea1ec6d",
   "metadata": {},
   "source": [
    "1.106－110學年合計有多少名僑生及港澳生在台就學？"
   ]
  },
  {
   "cell_type": "code",
   "execution_count": 10,
   "id": "620486bf",
   "metadata": {},
   "outputs": [],
   "source": [
    "df = pd.read_csv('okay.csv', encoding='utf-8')"
   ]
  },
  {
   "cell_type": "code",
   "execution_count": 11,
   "id": "098d3ffa",
   "metadata": {},
   "outputs": [],
   "source": [
    "df_selected = df[['僑生小計','港澳生小計']]"
   ]
  },
  {
   "cell_type": "code",
   "execution_count": 12,
   "id": "93ac97fe",
   "metadata": {},
   "outputs": [],
   "source": [
    "total = df_selected.sum().sum()"
   ]
  },
  {
   "cell_type": "code",
   "execution_count": 13,
   "id": "0fa704a1",
   "metadata": {},
   "outputs": [
    {
     "name": "stdout",
     "output_type": "stream",
     "text": [
      "106-110學年合計有120265名僑生及港澳生到台升學\n"
     ]
    }
   ],
   "source": [
    "print(f'106-110學年合計有{total}名僑生及港澳生到台升學')"
   ]
  },
  {
   "cell_type": "code",
   "execution_count": null,
   "id": "c2c5a3c6",
   "metadata": {},
   "outputs": [],
   "source": []
  }
 ],
 "metadata": {
  "kernelspec": {
   "display_name": "Python 3 (ipykernel)",
   "language": "python",
   "name": "python3"
  },
  "language_info": {
   "codemirror_mode": {
    "name": "ipython",
    "version": 3
   },
   "file_extension": ".py",
   "mimetype": "text/x-python",
   "name": "python",
   "nbconvert_exporter": "python",
   "pygments_lexer": "ipython3",
   "version": "3.9.13"
  }
 },
 "nbformat": 4,
 "nbformat_minor": 5
}
