{
 "cells": [
  {
   "cell_type": "markdown",
   "id": "e01243aa",
   "metadata": {},
   "source": [
    "# 106-110年在台僑生及港澳生人數 "
   ]
  },
  {
   "cell_type": "code",
   "execution_count": 3,
   "id": "abe23966",
   "metadata": {},
   "outputs": [
    {
     "data": {
      "text/html": [
       "<div>\n",
       "<style scoped>\n",
       "    .dataframe tbody tr th:only-of-type {\n",
       "        vertical-align: middle;\n",
       "    }\n",
       "\n",
       "    .dataframe tbody tr th {\n",
       "        vertical-align: top;\n",
       "    }\n",
       "\n",
       "    .dataframe thead th {\n",
       "        text-align: right;\n",
       "    }\n",
       "</style>\n",
       "<table border=\"1\" class=\"dataframe\">\n",
       "  <thead>\n",
       "    <tr style=\"text-align: right;\">\n",
       "      <th></th>\n",
       "      <th>學年度</th>\n",
       "      <th>設立別</th>\n",
       "      <th>學校類別</th>\n",
       "      <th>學校統計處代碼</th>\n",
       "      <th>學校名稱</th>\n",
       "      <th>系所代碼</th>\n",
       "      <th>系所名稱</th>\n",
       "      <th>學制班別(日間)</th>\n",
       "      <th>僑生小計</th>\n",
       "      <th>僑生男</th>\n",
       "      <th>僑生女</th>\n",
       "      <th>港澳生小計</th>\n",
       "      <th>港澳生男</th>\n",
       "      <th>港澳生女</th>\n",
       "      <th>僑生及港澳生數之在學比率(%)</th>\n",
       "    </tr>\n",
       "  </thead>\n",
       "  <tbody>\n",
       "    <tr>\n",
       "      <th>0</th>\n",
       "      <td>106</td>\n",
       "      <td>公立</td>\n",
       "      <td>一般大學</td>\n",
       "      <td>0001</td>\n",
       "      <td>國立政治大學</td>\n",
       "      <td>01111001</td>\n",
       "      <td>教育學系</td>\n",
       "      <td>學士班(日間)</td>\n",
       "      <td>19</td>\n",
       "      <td>2</td>\n",
       "      <td>17</td>\n",
       "      <td>5</td>\n",
       "      <td>3</td>\n",
       "      <td>2</td>\n",
       "      <td>10.04</td>\n",
       "    </tr>\n",
       "    <tr>\n",
       "      <th>1</th>\n",
       "      <td>106</td>\n",
       "      <td>公立</td>\n",
       "      <td>一般大學</td>\n",
       "      <td>0001</td>\n",
       "      <td>國立政治大學</td>\n",
       "      <td>01111001</td>\n",
       "      <td>教育學系</td>\n",
       "      <td>碩士班(日間)</td>\n",
       "      <td>3</td>\n",
       "      <td>2</td>\n",
       "      <td>1</td>\n",
       "      <td>0</td>\n",
       "      <td>0</td>\n",
       "      <td>0</td>\n",
       "      <td>6.52</td>\n",
       "    </tr>\n",
       "    <tr>\n",
       "      <th>2</th>\n",
       "      <td>106</td>\n",
       "      <td>公立</td>\n",
       "      <td>一般大學</td>\n",
       "      <td>0001</td>\n",
       "      <td>國立政治大學</td>\n",
       "      <td>01114005</td>\n",
       "      <td>教育行政與政策研究所</td>\n",
       "      <td>碩士班(日間)</td>\n",
       "      <td>1</td>\n",
       "      <td>1</td>\n",
       "      <td>0</td>\n",
       "      <td>1</td>\n",
       "      <td>0</td>\n",
       "      <td>1</td>\n",
       "      <td>4.26</td>\n",
       "    </tr>\n",
       "    <tr>\n",
       "      <th>3</th>\n",
       "      <td>106</td>\n",
       "      <td>公立</td>\n",
       "      <td>一般大學</td>\n",
       "      <td>0001</td>\n",
       "      <td>國立政治大學</td>\n",
       "      <td>01131002</td>\n",
       "      <td>華語文教學博士學位學程</td>\n",
       "      <td>博士班</td>\n",
       "      <td>1</td>\n",
       "      <td>0</td>\n",
       "      <td>1</td>\n",
       "      <td>0</td>\n",
       "      <td>0</td>\n",
       "      <td>0</td>\n",
       "      <td>5.26</td>\n",
       "    </tr>\n",
       "    <tr>\n",
       "      <th>4</th>\n",
       "      <td>106</td>\n",
       "      <td>公立</td>\n",
       "      <td>一般大學</td>\n",
       "      <td>0001</td>\n",
       "      <td>國立政治大學</td>\n",
       "      <td>01131002</td>\n",
       "      <td>華語文教學碩士學位學程</td>\n",
       "      <td>碩士班(日間)</td>\n",
       "      <td>2</td>\n",
       "      <td>0</td>\n",
       "      <td>2</td>\n",
       "      <td>1</td>\n",
       "      <td>0</td>\n",
       "      <td>1</td>\n",
       "      <td>5.26</td>\n",
       "    </tr>\n",
       "  </tbody>\n",
       "</table>\n",
       "</div>"
      ],
      "text/plain": [
       "   學年度 設立別  學校類別 學校統計處代碼    學校名稱      系所代碼         系所名稱 學制班別(日間)  僑生小計  僑生男  \\\n",
       "0  106  公立  一般大學    0001  國立政治大學  01111001         教育學系  學士班(日間)    19    2   \n",
       "1  106  公立  一般大學    0001  國立政治大學  01111001         教育學系  碩士班(日間)     3    2   \n",
       "2  106  公立  一般大學    0001  國立政治大學  01114005   教育行政與政策研究所  碩士班(日間)     1    1   \n",
       "3  106  公立  一般大學    0001  國立政治大學  01131002  華語文教學博士學位學程      博士班     1    0   \n",
       "4  106  公立  一般大學    0001  國立政治大學  01131002  華語文教學碩士學位學程  碩士班(日間)     2    0   \n",
       "\n",
       "   僑生女  港澳生小計  港澳生男  港澳生女  僑生及港澳生數之在學比率(%)  \n",
       "0   17      5     3     2            10.04  \n",
       "1    1      0     0     0             6.52  \n",
       "2    0      1     0     1             4.26  \n",
       "3    1      0     0     0             5.26  \n",
       "4    2      1     0     1             5.26  "
      ]
     },
     "execution_count": 3,
     "metadata": {},
     "output_type": "execute_result"
    }
   ],
   "source": [
    "import pandas as pd\n",
    "data = pd.read_csv('overseasstudent.csv')\n",
    "data.head()"
   ]
  },
  {
   "cell_type": "markdown",
   "id": "c207fb0c",
   "metadata": {},
   "source": [
    "# 1.106－110學年合計有多少名僑生在台留學?"
   ]
  },
  {
   "cell_type": "code",
   "execution_count": 4,
   "id": "3b0192ad",
   "metadata": {},
   "outputs": [],
   "source": [
    "df = pd.read_csv('overseasstudent.csv', encoding='utf-8')\n",
    "df_selected = df[['僑生小計']]\n",
    "total = df_selected.sum().sum()"
   ]
  },
  {
   "cell_type": "code",
   "execution_count": 5,
   "id": "f3925d0b",
   "metadata": {},
   "outputs": [
    {
     "name": "stdout",
     "output_type": "stream",
     "text": [
      "106-110學年合計有61967名僑生在台留學\n"
     ]
    }
   ],
   "source": [
    "print(f'106-110學年合計有{total}名僑生在台留學')"
   ]
  },
  {
   "cell_type": "markdown",
   "id": "10c686e4",
   "metadata": {},
   "source": [
    "# 2-4. 當中男生佔多少人？女生佔多少人？比率為?"
   ]
  },
  {
   "cell_type": "code",
   "execution_count": 6,
   "id": "a06ebd95",
   "metadata": {},
   "outputs": [],
   "source": [
    "df = pd.read_csv('overseasstudent.csv', encoding='utf-8')\n",
    "df_selected = df[['僑生男']]\n",
    "total_male = df_selected.sum().sum()"
   ]
  },
  {
   "cell_type": "code",
   "execution_count": 7,
   "id": "5379befb",
   "metadata": {},
   "outputs": [
    {
     "name": "stdout",
     "output_type": "stream",
     "text": [
      "106-110學年合計有29655名男僑生在台留學\n"
     ]
    }
   ],
   "source": [
    "print(f'106-110學年合計有{total_male}名男僑生在台留學')"
   ]
  },
  {
   "cell_type": "code",
   "execution_count": 8,
   "id": "292062ba",
   "metadata": {},
   "outputs": [],
   "source": [
    "df = pd.read_csv('overseasstudent.csv', encoding='utf-8')\n",
    "df_selected = df[['僑生女']]\n",
    "total_female = df_selected.sum().sum()"
   ]
  },
  {
   "cell_type": "code",
   "execution_count": 9,
   "id": "f2cf812a",
   "metadata": {},
   "outputs": [
    {
     "name": "stdout",
     "output_type": "stream",
     "text": [
      "106-110學年合計有32312名女僑生在台留學\n"
     ]
    }
   ],
   "source": [
    "print(f'106-110學年合計有{total_female}名女僑生在台留學')"
   ]
  },
  {
   "cell_type": "code",
   "execution_count": 10,
   "id": "e08db6aa",
   "metadata": {},
   "outputs": [],
   "source": [
    "df = pd.read_csv('overseasstudent.csv', encoding='utf-8')\n",
    "df_selected = df[['僑生男']]\n",
    "total_male = df_selected.sum().sum()\n",
    "\n",
    "df = pd.read_csv('overseasstudent.csv', encoding='utf-8')\n",
    "df_selected = df[['僑生女']]\n",
    "total_female = df_selected.sum().sum()"
   ]
  },
  {
   "cell_type": "code",
   "execution_count": 11,
   "id": "f7d6564c",
   "metadata": {},
   "outputs": [],
   "source": [
    "ratio = total_male / total_female"
   ]
  },
  {
   "cell_type": "code",
   "execution_count": 12,
   "id": "6bdf4bc5",
   "metadata": {},
   "outputs": [
    {
     "name": "stdout",
     "output_type": "stream",
     "text": [
      "僑生男女比率為： 0.9177704877444912\n"
     ]
    }
   ],
   "source": [
    "print(\"僑生男女比率為：\", ratio)"
   ]
  },
  {
   "cell_type": "markdown",
   "id": "34c8191e",
   "metadata": {},
   "source": [
    "# 5.106－110學年合計有多少名港澳生在台留學?"
   ]
  },
  {
   "cell_type": "code",
   "execution_count": 13,
   "id": "6dcb2359",
   "metadata": {},
   "outputs": [],
   "source": [
    "df = pd.read_csv('overseasstudent.csv', encoding='utf-8')\n",
    "df_selected = df[['港澳生小計']]\n",
    "total = df_selected.sum().sum()"
   ]
  },
  {
   "cell_type": "code",
   "execution_count": 14,
   "id": "23a2a3e8",
   "metadata": {},
   "outputs": [
    {
     "name": "stdout",
     "output_type": "stream",
     "text": [
      "106-110學年合計有58298名港澳生在台留學\n"
     ]
    }
   ],
   "source": [
    "print(f'106-110學年合計有{total}名港澳生在台留學')"
   ]
  },
  {
   "cell_type": "markdown",
   "id": "de52b984",
   "metadata": {},
   "source": [
    "# 6-8.當中男生佔多少人？女生佔多少人？比率為?"
   ]
  },
  {
   "cell_type": "code",
   "execution_count": 15,
   "id": "0625f366",
   "metadata": {},
   "outputs": [],
   "source": [
    "df = pd.read_csv('overseasstudent.csv', encoding='utf-8')\n",
    "df_selected = df[['港澳生男']]\n",
    "total_male = df_selected.sum().sum()"
   ]
  },
  {
   "cell_type": "code",
   "execution_count": 16,
   "id": "fce00845",
   "metadata": {},
   "outputs": [
    {
     "name": "stdout",
     "output_type": "stream",
     "text": [
      "106-110學年合計有32096名男港澳生在台留學\n"
     ]
    }
   ],
   "source": [
    "print(f'106-110學年合計有{total_male}名男港澳生在台留學')"
   ]
  },
  {
   "cell_type": "code",
   "execution_count": 17,
   "id": "c6e542cf",
   "metadata": {},
   "outputs": [],
   "source": [
    "df = pd.read_csv('overseasstudent.csv', encoding='utf-8')\n",
    "df_selected = df[['港澳生女']]\n",
    "total_female = df_selected.sum().sum()"
   ]
  },
  {
   "cell_type": "code",
   "execution_count": 18,
   "id": "388c57aa",
   "metadata": {},
   "outputs": [
    {
     "name": "stdout",
     "output_type": "stream",
     "text": [
      "106-110學年合計有26202名女港澳生在台留學\n"
     ]
    }
   ],
   "source": [
    "print(f'106-110學年合計有{total_female}名女港澳生在台留學')"
   ]
  },
  {
   "cell_type": "code",
   "execution_count": 19,
   "id": "162194af",
   "metadata": {},
   "outputs": [],
   "source": [
    "df = pd.read_csv('overseasstudent.csv', encoding='utf-8')\n",
    "df_selected = df[['港澳生男']]\n",
    "total_male = df_selected.sum().sum()\n",
    "\n",
    "df = pd.read_csv('overseasstudent.csv', encoding='utf-8')\n",
    "df_selected = df[['港澳生女']]\n",
    "total_female = df_selected.sum().sum()"
   ]
  },
  {
   "cell_type": "code",
   "execution_count": 20,
   "id": "34f11c6c",
   "metadata": {},
   "outputs": [],
   "source": [
    "ratio = total_male / total_female"
   ]
  },
  {
   "cell_type": "code",
   "execution_count": 21,
   "id": "a8f213d0",
   "metadata": {},
   "outputs": [
    {
     "name": "stdout",
     "output_type": "stream",
     "text": [
      "港澳生男女比率為： 1.2249446607129226\n"
     ]
    }
   ],
   "source": [
    "print(\"港澳生男女比率為：\", ratio)"
   ]
  },
  {
   "cell_type": "markdown",
   "id": "7afdf579",
   "metadata": {},
   "source": [
    "# 9. 106－110學年合計有多少名僑生及港澳生在台留學?"
   ]
  },
  {
   "cell_type": "code",
   "execution_count": 22,
   "id": "9e779cd0",
   "metadata": {},
   "outputs": [],
   "source": [
    "df = pd.read_csv('overseasstudent.csv', encoding='utf-8')\n",
    "df_selected = df[['僑生小計','港澳生小計']]\n",
    "total = df_selected.sum().sum()"
   ]
  },
  {
   "cell_type": "code",
   "execution_count": 23,
   "id": "771752a4",
   "metadata": {},
   "outputs": [
    {
     "name": "stdout",
     "output_type": "stream",
     "text": [
      "106-110學年合計有120265名僑生及港澳生在台留學\n"
     ]
    }
   ],
   "source": [
    "print(f'106-110學年合計有{total}名僑生及港澳生在台留學')"
   ]
  },
  {
   "cell_type": "markdown",
   "id": "7a980d15",
   "metadata": {},
   "source": [
    "# 10. 有人說就讀公立大學的僑生、港澳生比就讀私立大學的多，你認同嗎？試就資料解釋。"
   ]
  },
  {
   "cell_type": "markdown",
   "id": "fafa0375",
   "metadata": {},
   "source": [
    "我不認同，以下為就讀公立大學的僑生及港澳生的總數。"
   ]
  },
  {
   "cell_type": "code",
   "execution_count": 24,
   "id": "41647367",
   "metadata": {},
   "outputs": [
    {
     "name": "stdout",
     "output_type": "stream",
     "text": [
      "就讀公立大學的學生總人數： 59292\n"
     ]
    }
   ],
   "source": [
    "df_public = df.loc[df['設立別'] == '公立']\n",
    "total_count = df_public['僑生小計'].sum() + df_public['港澳生小計'].sum()\n",
    "print(\"就讀公立大學的學生總人數：\", total_count)"
   ]
  },
  {
   "cell_type": "markdown",
   "id": "d3b4d8b8",
   "metadata": {},
   "source": [
    "以下為就讀私立大學的僑生及港澳生的總數。"
   ]
  },
  {
   "cell_type": "code",
   "execution_count": 26,
   "id": "a57c96a2",
   "metadata": {},
   "outputs": [
    {
     "name": "stdout",
     "output_type": "stream",
     "text": [
      "就讀私立大學的學生總人數： 60973\n"
     ]
    }
   ],
   "source": [
    "df_private = df.loc[df['設立別'] == '私立']\n",
    "total_count = df_private['僑生小計'].sum() + df_private['港澳生小計'].sum()\n",
    "print(\"就讀私立大學的學生總人數：\", total_count)"
   ]
  },
  {
   "cell_type": "markdown",
   "id": "b84291c1",
   "metadata": {},
   "source": [
    "由此可見，就讀私立大學的僑生及港澳生比就讀公立大學的約多出1700人，可能的原因是台灣的私立大學數量比公立大學多，而且大部分私立大學的收生門檻比公立大學低，因此有此情況出現。"
   ]
  },
  {
   "cell_type": "markdown",
   "id": "6fdffabd",
   "metadata": {},
   "source": [
    "# 11. 試找出106－110學年各年在台就學的僑生及港澳生數量，並比較當中的差異。"
   ]
  },
  {
   "cell_type": "markdown",
   "id": "0717c7a7",
   "metadata": {},
   "source": [
    "以下為106學年在台僑生及港澳生數量。"
   ]
  },
  {
   "cell_type": "code",
   "execution_count": 31,
   "id": "0b2edab0",
   "metadata": {},
   "outputs": [
    {
     "name": "stdout",
     "output_type": "stream",
     "text": [
      "106學年在台的僑生及港澳生總人數： 24594\n"
     ]
    }
   ],
   "source": [
    "df_106 = df.loc[df['學年度'] == 106]\n",
    "total_count = df_106['僑生男'].sum() + df_106['僑生女'].sum() + df_106['港澳生女'].sum() + df_106['港澳生男'].sum()\n",
    "print(\"106學年在台的僑生及港澳生總人數：\", total_count)"
   ]
  },
  {
   "cell_type": "markdown",
   "id": "676b1869",
   "metadata": {},
   "source": [
    "以下為107學年在台僑生及港澳生數量。"
   ]
  },
  {
   "cell_type": "code",
   "execution_count": 32,
   "id": "723caa96",
   "metadata": {},
   "outputs": [
    {
     "name": "stdout",
     "output_type": "stream",
     "text": [
      "107學年在台的僑生及港澳生總人數： 23850\n"
     ]
    }
   ],
   "source": [
    "df_107 = df.loc[df['學年度'] == 107]\n",
    "total_count = df_107['僑生男'].sum() + df_107['僑生女'].sum() + df_107['港澳生女'].sum() + df_107['港澳生男'].sum()\n",
    "print(\"107學年在台的僑生及港澳生總人數：\", total_count)"
   ]
  },
  {
   "cell_type": "markdown",
   "id": "bffb6cf0",
   "metadata": {},
   "source": [
    "以下為108學年在台僑生及港澳生數量。"
   ]
  },
  {
   "cell_type": "code",
   "execution_count": 33,
   "id": "af779aec",
   "metadata": {},
   "outputs": [
    {
     "name": "stdout",
     "output_type": "stream",
     "text": [
      "108學年在台的僑生及港澳生總人數： 22651\n"
     ]
    }
   ],
   "source": [
    "df_108 = df.loc[df['學年度'] == 108]\n",
    "total_count = df_108['僑生男'].sum() + df_108['僑生女'].sum() + df_108['港澳生女'].sum() + df_108['港澳生男'].sum()\n",
    "print(\"108學年在台的僑生及港澳生總人數：\", total_count)"
   ]
  },
  {
   "cell_type": "markdown",
   "id": "38939f9d",
   "metadata": {},
   "source": [
    "以下為109學年在台僑生及港澳生數量。"
   ]
  },
  {
   "cell_type": "code",
   "execution_count": 34,
   "id": "8fb6d486",
   "metadata": {},
   "outputs": [
    {
     "name": "stdout",
     "output_type": "stream",
     "text": [
      "109學年在台的僑生及港澳生總人數： 23516\n"
     ]
    }
   ],
   "source": [
    "df_109 = df.loc[df['學年度'] == 109]\n",
    "total_count = df_109['僑生男'].sum() + df_109['僑生女'].sum() + df_109['港澳生女'].sum() + df_109['港澳生男'].sum()\n",
    "print(\"109學年在台的僑生及港澳生總人數：\", total_count)"
   ]
  },
  {
   "cell_type": "markdown",
   "id": "41cc6c59",
   "metadata": {},
   "source": [
    "以下為110學年在台僑生及港澳生數量。"
   ]
  },
  {
   "cell_type": "code",
   "execution_count": 35,
   "id": "72ffd027",
   "metadata": {},
   "outputs": [
    {
     "name": "stdout",
     "output_type": "stream",
     "text": [
      "110學年在台的僑生及港澳生總人數： 25654\n"
     ]
    }
   ],
   "source": [
    "df_110 = df.loc[df['學年度'] == 110]\n",
    "total_count = df_110['僑生男'].sum() + df_110['僑生女'].sum() + df_110['港澳生女'].sum() + df_110['港澳生男'].sum()\n",
    "print(\"110學年在台的僑生及港澳生總人數：\", total_count)"
   ]
  },
  {
   "cell_type": "markdown",
   "id": "ad3a0957",
   "metadata": {},
   "source": [
    "由此可見，108－109學年的僑生及港澳生人數比106－107學年少，估計是受Covid－19影響，而到110學年因疫情放緩，吸引更多僑生及港澳生來台就學，因此該年在台的僑生及港澳生總人數為過去5年的最多，達25654人，比109年多出2138人。"
   ]
  }
 ],
 "metadata": {
  "kernelspec": {
   "display_name": "Python 3 (ipykernel)",
   "language": "python",
   "name": "python3"
  },
  "language_info": {
   "codemirror_mode": {
    "name": "ipython",
    "version": 3
   },
   "file_extension": ".py",
   "mimetype": "text/x-python",
   "name": "python",
   "nbconvert_exporter": "python",
   "pygments_lexer": "ipython3",
   "version": "3.9.13"
  }
 },
 "nbformat": 4,
 "nbformat_minor": 5
}
