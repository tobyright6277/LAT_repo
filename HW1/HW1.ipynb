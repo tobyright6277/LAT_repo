{
 "cells": [
  {
   "cell_type": "markdown",
   "id": "e01243aa",
   "metadata": {},
   "source": [
    "# 106-110年在台僑生及港澳生人數 "
   ]
  },
  {
   "cell_type": "code",
   "execution_count": 3,
   "id": "abe23966",
   "metadata": {},
   "outputs": [
    {
     "data": {
      "text/html": [
       "<div>\n",
       "<style scoped>\n",
       "    .dataframe tbody tr th:only-of-type {\n",
       "        vertical-align: middle;\n",
       "    }\n",
       "\n",
       "    .dataframe tbody tr th {\n",
       "        vertical-align: top;\n",
       "    }\n",
       "\n",
       "    .dataframe thead th {\n",
       "        text-align: right;\n",
       "    }\n",
       "</style>\n",
       "<table border=\"1\" class=\"dataframe\">\n",
       "  <thead>\n",
       "    <tr style=\"text-align: right;\">\n",
       "      <th></th>\n",
       "      <th>學年度</th>\n",
       "      <th>設立別</th>\n",
       "      <th>學校類別</th>\n",
       "      <th>學校統計處代碼</th>\n",
       "      <th>學校名稱</th>\n",
       "      <th>系所代碼</th>\n",
       "      <th>系所名稱</th>\n",
       "      <th>學制班別(日間)</th>\n",
       "      <th>僑生小計</th>\n",
       "      <th>僑生男</th>\n",
       "      <th>僑生女</th>\n",
       "      <th>港澳生小計</th>\n",
       "      <th>港澳生男</th>\n",
       "      <th>港澳生女</th>\n",
       "      <th>僑生及港澳生數之在學比率(%)</th>\n",
       "    </tr>\n",
       "  </thead>\n",
       "  <tbody>\n",
       "    <tr>\n",
       "      <th>0</th>\n",
       "      <td>106</td>\n",
       "      <td>公立</td>\n",
       "      <td>一般大學</td>\n",
       "      <td>0001</td>\n",
       "      <td>國立政治大學</td>\n",
       "      <td>01111001</td>\n",
       "      <td>教育學系</td>\n",
       "      <td>學士班(日間)</td>\n",
       "      <td>19</td>\n",
       "      <td>2</td>\n",
       "      <td>17</td>\n",
       "      <td>5</td>\n",
       "      <td>3</td>\n",
       "      <td>2</td>\n",
       "      <td>10.04</td>\n",
       "    </tr>\n",
       "    <tr>\n",
       "      <th>1</th>\n",
       "      <td>106</td>\n",
       "      <td>公立</td>\n",
       "      <td>一般大學</td>\n",
       "      <td>0001</td>\n",
       "      <td>國立政治大學</td>\n",
       "      <td>01111001</td>\n",
       "      <td>教育學系</td>\n",
       "      <td>碩士班(日間)</td>\n",
       "      <td>3</td>\n",
       "      <td>2</td>\n",
       "      <td>1</td>\n",
       "      <td>0</td>\n",
       "      <td>0</td>\n",
       "      <td>0</td>\n",
       "      <td>6.52</td>\n",
       "    </tr>\n",
       "    <tr>\n",
       "      <th>2</th>\n",
       "      <td>106</td>\n",
       "      <td>公立</td>\n",
       "      <td>一般大學</td>\n",
       "      <td>0001</td>\n",
       "      <td>國立政治大學</td>\n",
       "      <td>01114005</td>\n",
       "      <td>教育行政與政策研究所</td>\n",
       "      <td>碩士班(日間)</td>\n",
       "      <td>1</td>\n",
       "      <td>1</td>\n",
       "      <td>0</td>\n",
       "      <td>1</td>\n",
       "      <td>0</td>\n",
       "      <td>1</td>\n",
       "      <td>4.26</td>\n",
       "    </tr>\n",
       "    <tr>\n",
       "      <th>3</th>\n",
       "      <td>106</td>\n",
       "      <td>公立</td>\n",
       "      <td>一般大學</td>\n",
       "      <td>0001</td>\n",
       "      <td>國立政治大學</td>\n",
       "      <td>01131002</td>\n",
       "      <td>華語文教學博士學位學程</td>\n",
       "      <td>博士班</td>\n",
       "      <td>1</td>\n",
       "      <td>0</td>\n",
       "      <td>1</td>\n",
       "      <td>0</td>\n",
       "      <td>0</td>\n",
       "      <td>0</td>\n",
       "      <td>5.26</td>\n",
       "    </tr>\n",
       "    <tr>\n",
       "      <th>4</th>\n",
       "      <td>106</td>\n",
       "      <td>公立</td>\n",
       "      <td>一般大學</td>\n",
       "      <td>0001</td>\n",
       "      <td>國立政治大學</td>\n",
       "      <td>01131002</td>\n",
       "      <td>華語文教學碩士學位學程</td>\n",
       "      <td>碩士班(日間)</td>\n",
       "      <td>2</td>\n",
       "      <td>0</td>\n",
       "      <td>2</td>\n",
       "      <td>1</td>\n",
       "      <td>0</td>\n",
       "      <td>1</td>\n",
       "      <td>5.26</td>\n",
       "    </tr>\n",
       "  </tbody>\n",
       "</table>\n",
       "</div>"
      ],
      "text/plain": [
       "   學年度 設立別  學校類別 學校統計處代碼    學校名稱      系所代碼         系所名稱 學制班別(日間)  僑生小計  僑生男  \\\n",
       "0  106  公立  一般大學    0001  國立政治大學  01111001         教育學系  學士班(日間)    19    2   \n",
       "1  106  公立  一般大學    0001  國立政治大學  01111001         教育學系  碩士班(日間)     3    2   \n",
       "2  106  公立  一般大學    0001  國立政治大學  01114005   教育行政與政策研究所  碩士班(日間)     1    1   \n",
       "3  106  公立  一般大學    0001  國立政治大學  01131002  華語文教學博士學位學程      博士班     1    0   \n",
       "4  106  公立  一般大學    0001  國立政治大學  01131002  華語文教學碩士學位學程  碩士班(日間)     2    0   \n",
       "\n",
       "   僑生女  港澳生小計  港澳生男  港澳生女  僑生及港澳生數之在學比率(%)  \n",
       "0   17      5     3     2            10.04  \n",
       "1    1      0     0     0             6.52  \n",
       "2    0      1     0     1             4.26  \n",
       "3    1      0     0     0             5.26  \n",
       "4    2      1     0     1             5.26  "
      ]
     },
     "execution_count": 3,
     "metadata": {},
     "output_type": "execute_result"
    }
   ],
   "source": [
    "import pandas as pd\n",
    "data = pd.read_csv('overseasstudent.csv')\n",
    "data.head()"
   ]
  },
  {
   "cell_type": "markdown",
   "id": "c207fb0c",
   "metadata": {},
   "source": [
    "# 1.106－110學年合計有多少名僑生在台留學?"
   ]
  },
  {
   "cell_type": "code",
   "execution_count": 6,
   "id": "3b0192ad",
   "metadata": {},
   "outputs": [],
   "source": [
    "df = pd.read_csv('overseasstudent.csv', encoding='utf-8')\n",
    "df_selected = df[['僑生小計']]\n",
    "total = df_selected.sum().sum()"
   ]
  },
  {
   "cell_type": "code",
   "execution_count": 8,
   "id": "f3925d0b",
   "metadata": {},
   "outputs": [
    {
     "name": "stdout",
     "output_type": "stream",
     "text": [
      "106-110學年合計有61967名僑生在台留學\n"
     ]
    }
   ],
   "source": [
    "print(f'106-110學年合計有{total}名僑生在台留學')"
   ]
  },
  {
   "cell_type": "markdown",
   "id": "10c686e4",
   "metadata": {},
   "source": [
    "# 2-4. 當中男生佔多少人？女生佔多少人？比率為?"
   ]
  },
  {
   "cell_type": "code",
   "execution_count": 9,
   "id": "a06ebd95",
   "metadata": {},
   "outputs": [],
   "source": [
    "df = pd.read_csv('overseasstudent.csv', encoding='utf-8')\n",
    "df_selected = df[['僑生男']]\n",
    "total_male = df_selected.sum().sum()"
   ]
  },
  {
   "cell_type": "code",
   "execution_count": 10,
   "id": "5379befb",
   "metadata": {},
   "outputs": [
    {
     "name": "stdout",
     "output_type": "stream",
     "text": [
      "106-110學年合計有29655名男僑生在台留學\n"
     ]
    }
   ],
   "source": [
    "print(f'106-110學年合計有{total_male}名男僑生在台留學')"
   ]
  },
  {
   "cell_type": "code",
   "execution_count": 14,
   "id": "292062ba",
   "metadata": {},
   "outputs": [],
   "source": [
    "df = pd.read_csv('overseasstudent.csv', encoding='utf-8')\n",
    "df_selected = df[['僑生女']]\n",
    "total_female = df_selected.sum().sum()"
   ]
  },
  {
   "cell_type": "code",
   "execution_count": 19,
   "id": "f2cf812a",
   "metadata": {},
   "outputs": [
    {
     "name": "stdout",
     "output_type": "stream",
     "text": [
      "106-110學年合計有32312名女僑生在台留學\n"
     ]
    }
   ],
   "source": [
    "print(f'106-110學年合計有{total_female}名女僑生在台留學')"
   ]
  },
  {
   "cell_type": "code",
   "execution_count": 23,
   "id": "e08db6aa",
   "metadata": {},
   "outputs": [],
   "source": [
    "df = pd.read_csv('overseasstudent.csv', encoding='utf-8')\n",
    "df_selected = df[['僑生男']]\n",
    "total_male = df_selected.sum().sum()\n",
    "\n",
    "df = pd.read_csv('overseasstudent.csv', encoding='utf-8')\n",
    "df_selected = df[['僑生女']]\n",
    "total_female = df_selected.sum().sum()"
   ]
  },
  {
   "cell_type": "code",
   "execution_count": 24,
   "id": "f7d6564c",
   "metadata": {},
   "outputs": [],
   "source": [
    "ratio = total_male / total_female"
   ]
  },
  {
   "cell_type": "code",
   "execution_count": 25,
   "id": "6bdf4bc5",
   "metadata": {},
   "outputs": [
    {
     "name": "stdout",
     "output_type": "stream",
     "text": [
      "僑生男女比率為： 0.9177704877444912\n"
     ]
    }
   ],
   "source": [
    "print(\"僑生男女比率為：\", ratio)"
   ]
  },
  {
   "cell_type": "markdown",
   "id": "34c8191e",
   "metadata": {},
   "source": [
    "# 5.106－110學年合計有多少名港澳生在台留學?"
   ]
  },
  {
   "cell_type": "code",
   "execution_count": 26,
   "id": "6dcb2359",
   "metadata": {},
   "outputs": [],
   "source": [
    "df = pd.read_csv('overseasstudent.csv', encoding='utf-8')\n",
    "df_selected = df[['港澳生小計']]\n",
    "total = df_selected.sum().sum()"
   ]
  },
  {
   "cell_type": "code",
   "execution_count": 27,
   "id": "23a2a3e8",
   "metadata": {},
   "outputs": [
    {
     "name": "stdout",
     "output_type": "stream",
     "text": [
      "106-110學年合計有58298名港澳生在台留學\n"
     ]
    }
   ],
   "source": [
    "print(f'106-110學年合計有{total}名港澳生在台留學')"
   ]
  },
  {
   "cell_type": "markdown",
   "id": "de52b984",
   "metadata": {},
   "source": [
    "# 6-8.當中男生佔多少人？女生佔多少人？比率為?"
   ]
  },
  {
   "cell_type": "code",
   "execution_count": 28,
   "id": "0625f366",
   "metadata": {},
   "outputs": [],
   "source": [
    "df = pd.read_csv('overseasstudent.csv', encoding='utf-8')\n",
    "df_selected = df[['港澳生男']]\n",
    "total_male = df_selected.sum().sum()"
   ]
  },
  {
   "cell_type": "code",
   "execution_count": 29,
   "id": "fce00845",
   "metadata": {},
   "outputs": [
    {
     "name": "stdout",
     "output_type": "stream",
     "text": [
      "106-110學年合計有32096名男港澳生在台留學\n"
     ]
    }
   ],
   "source": [
    "print(f'106-110學年合計有{total_male}名男港澳生在台留學')"
   ]
  },
  {
   "cell_type": "code",
   "execution_count": 34,
   "id": "c6e542cf",
   "metadata": {},
   "outputs": [],
   "source": [
    "df = pd.read_csv('overseasstudent.csv', encoding='utf-8')\n",
    "df_selected = df[['港澳生女']]\n",
    "total_female = df_selected.sum().sum()"
   ]
  },
  {
   "cell_type": "code",
   "execution_count": 35,
   "id": "388c57aa",
   "metadata": {},
   "outputs": [
    {
     "name": "stdout",
     "output_type": "stream",
     "text": [
      "106-110學年合計有26202名女港澳生在台留學\n"
     ]
    }
   ],
   "source": [
    "print(f'106-110學年合計有{total_female}名女港澳生在台留學')"
   ]
  },
  {
   "cell_type": "code",
   "execution_count": 36,
   "id": "162194af",
   "metadata": {},
   "outputs": [],
   "source": [
    "df = pd.read_csv('overseasstudent.csv', encoding='utf-8')\n",
    "df_selected = df[['港澳生男']]\n",
    "total_male = df_selected.sum().sum()\n",
    "\n",
    "df = pd.read_csv('overseasstudent.csv', encoding='utf-8')\n",
    "df_selected = df[['港澳生女']]\n",
    "total_female = df_selected.sum().sum()"
   ]
  },
  {
   "cell_type": "code",
   "execution_count": 37,
   "id": "34f11c6c",
   "metadata": {},
   "outputs": [],
   "source": [
    "ratio = total_male / total_female"
   ]
  },
  {
   "cell_type": "code",
   "execution_count": 38,
   "id": "a8f213d0",
   "metadata": {},
   "outputs": [
    {
     "name": "stdout",
     "output_type": "stream",
     "text": [
      "港澳生男女比率為： 1.2249446607129226\n"
     ]
    }
   ],
   "source": [
    "print(\"港澳生男女比率為：\", ratio)"
   ]
  },
  {
   "cell_type": "markdown",
   "id": "7afdf579",
   "metadata": {},
   "source": [
    "# 9. 106－110學年合計有多少名僑生及港澳生在台留學?"
   ]
  },
  {
   "cell_type": "code",
   "execution_count": 39,
   "id": "9e779cd0",
   "metadata": {},
   "outputs": [],
   "source": [
    "df = pd.read_csv('overseasstudent.csv', encoding='utf-8')\n",
    "df_selected = df[['僑生小計','港澳生小計']]\n",
    "total = df_selected.sum().sum()"
   ]
  },
  {
   "cell_type": "code",
   "execution_count": 41,
   "id": "771752a4",
   "metadata": {},
   "outputs": [
    {
     "name": "stdout",
     "output_type": "stream",
     "text": [
      "106-110學年合計有120265名僑生及港澳生在台留學\n"
     ]
    }
   ],
   "source": [
    "print(f'106-110學年合計有{total}名僑生及港澳生在台留學')"
   ]
  },
  {
   "cell_type": "markdown",
   "id": "7a980d15",
   "metadata": {},
   "source": [
    "# 10. 106－110學年"
   ]
  },
  {
   "cell_type": "code",
   "execution_count": 42,
   "id": "4df61c7a",
   "metadata": {},
   "outputs": [],
   "source": [
    "df_public = df.loc[df['設立別'] == '公立']"
   ]
  },
  {
   "cell_type": "code",
   "execution_count": 43,
   "id": "fefd7cdd",
   "metadata": {},
   "outputs": [],
   "source": [
    "total_count = df_public['僑生小計'].sum() + df_public['港澳生小計'].sum()"
   ]
  },
  {
   "cell_type": "code",
   "execution_count": 44,
   "id": "5e4e0335",
   "metadata": {},
   "outputs": [
    {
     "name": "stdout",
     "output_type": "stream",
     "text": [
      "就讀公立大學的學生總人數： 59292\n"
     ]
    }
   ],
   "source": [
    "print(\"就讀公立大學的學生總人數：\", total_count)"
   ]
  },
  {
   "cell_type": "code",
   "execution_count": null,
   "id": "c67a13c6",
   "metadata": {},
   "outputs": [],
   "source": []
  }
 ],
 "metadata": {
  "kernelspec": {
   "display_name": "Python 3 (ipykernel)",
   "language": "python",
   "name": "python3"
  },
  "language_info": {
   "codemirror_mode": {
    "name": "ipython",
    "version": 3
   },
   "file_extension": ".py",
   "mimetype": "text/x-python",
   "name": "python",
   "nbconvert_exporter": "python",
   "pygments_lexer": "ipython3",
   "version": "3.9.13"
  }
 },
 "nbformat": 4,
 "nbformat_minor": 5
}
