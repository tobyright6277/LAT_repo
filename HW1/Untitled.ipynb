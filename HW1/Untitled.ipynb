{
 "cells": [
  {
   "cell_type": "markdown",
   "id": "e547972f",
   "metadata": {},
   "source": [
    "#110年在台港澳生人數"
   ]
  },
  {
   "cell_type": "code",
   "execution_count": 1,
   "id": "e8063e19",
   "metadata": {},
   "outputs": [],
   "source": [
    "import pandas as pd"
   ]
  },
  {
   "cell_type": "code",
   "execution_count": 3,
   "id": "0a1e2c80",
   "metadata": {},
   "outputs": [
    {
     "data": {
      "text/html": [
       "<div>\n",
       "<style scoped>\n",
       "    .dataframe tbody tr th:only-of-type {\n",
       "        vertical-align: middle;\n",
       "    }\n",
       "\n",
       "    .dataframe tbody tr th {\n",
       "        vertical-align: top;\n",
       "    }\n",
       "\n",
       "    .dataframe thead th {\n",
       "        text-align: right;\n",
       "    }\n",
       "</style>\n",
       "<table border=\"1\" class=\"dataframe\">\n",
       "  <thead>\n",
       "    <tr style=\"text-align: right;\">\n",
       "      <th></th>\n",
       "      <th>學年度</th>\n",
       "      <th>學校代碼</th>\n",
       "      <th>學校名稱</th>\n",
       "      <th>等級</th>\n",
       "      <th>僑居地</th>\n",
       "      <th>在學學生人數_男</th>\n",
       "      <th>在學學生人數_女</th>\n",
       "      <th>新生</th>\n",
       "      <th>舊生</th>\n",
       "      <th>上學年度畢業生人數_男</th>\n",
       "      <th>上學年度畢業生人數_女</th>\n",
       "    </tr>\n",
       "  </thead>\n",
       "  <tbody>\n",
       "    <tr>\n",
       "      <th>0</th>\n",
       "      <td>110</td>\n",
       "      <td>0001</td>\n",
       "      <td>國立政治大學</td>\n",
       "      <td>博士</td>\n",
       "      <td>香港</td>\n",
       "      <td>6</td>\n",
       "      <td>1</td>\n",
       "      <td>4</td>\n",
       "      <td>3</td>\n",
       "      <td>0</td>\n",
       "      <td>0</td>\n",
       "    </tr>\n",
       "    <tr>\n",
       "      <th>1</th>\n",
       "      <td>110</td>\n",
       "      <td>0001</td>\n",
       "      <td>國立政治大學</td>\n",
       "      <td>博士</td>\n",
       "      <td>澳門</td>\n",
       "      <td>4</td>\n",
       "      <td>0</td>\n",
       "      <td>1</td>\n",
       "      <td>3</td>\n",
       "      <td>0</td>\n",
       "      <td>0</td>\n",
       "    </tr>\n",
       "    <tr>\n",
       "      <th>2</th>\n",
       "      <td>110</td>\n",
       "      <td>0001</td>\n",
       "      <td>國立政治大學</td>\n",
       "      <td>碩士</td>\n",
       "      <td>香港</td>\n",
       "      <td>34</td>\n",
       "      <td>30</td>\n",
       "      <td>32</td>\n",
       "      <td>32</td>\n",
       "      <td>4</td>\n",
       "      <td>6</td>\n",
       "    </tr>\n",
       "    <tr>\n",
       "      <th>3</th>\n",
       "      <td>110</td>\n",
       "      <td>0001</td>\n",
       "      <td>國立政治大學</td>\n",
       "      <td>碩士</td>\n",
       "      <td>澳門</td>\n",
       "      <td>9</td>\n",
       "      <td>8</td>\n",
       "      <td>3</td>\n",
       "      <td>14</td>\n",
       "      <td>2</td>\n",
       "      <td>3</td>\n",
       "    </tr>\n",
       "    <tr>\n",
       "      <th>4</th>\n",
       "      <td>110</td>\n",
       "      <td>0001</td>\n",
       "      <td>國立政治大學</td>\n",
       "      <td>學士</td>\n",
       "      <td>香港</td>\n",
       "      <td>36</td>\n",
       "      <td>50</td>\n",
       "      <td>20</td>\n",
       "      <td>66</td>\n",
       "      <td>5</td>\n",
       "      <td>5</td>\n",
       "    </tr>\n",
       "  </tbody>\n",
       "</table>\n",
       "</div>"
      ],
      "text/plain": [
       "   學年度  學校代碼    學校名稱  等級 僑居地  在學學生人數_男  在學學生人數_女  新生  舊生  上學年度畢業生人數_男  \\\n",
       "0  110  0001  國立政治大學  博士  香港         6         1   4   3            0   \n",
       "1  110  0001  國立政治大學  博士  澳門         4         0   1   3            0   \n",
       "2  110  0001  國立政治大學  碩士  香港        34        30  32  32            4   \n",
       "3  110  0001  國立政治大學  碩士  澳門         9         8   3  14            2   \n",
       "4  110  0001  國立政治大學  學士  香港        36        50  20  66            5   \n",
       "\n",
       "   上學年度畢業生人數_女  \n",
       "0            0  \n",
       "1            0  \n",
       "2            6  \n",
       "3            3  \n",
       "4            5  "
      ]
     },
     "execution_count": 3,
     "metadata": {},
     "output_type": "execute_result"
    }
   ],
   "source": [
    "data = pd.read_csv('hkmacstudent.csv')\n",
    "data.head()"
   ]
  },
  {
   "cell_type": "markdown",
   "id": "e379616b",
   "metadata": {},
   "source": [
    "# 1.110學年在台男學生在學人數合計為？"
   ]
  },
  {
   "cell_type": "code",
   "execution_count": null,
   "id": "dc8b3ee1",
   "metadata": {},
   "outputs": [],
   "source": []
  }
 ],
 "metadata": {
  "kernelspec": {
   "display_name": "Python 3 (ipykernel)",
   "language": "python",
   "name": "python3"
  },
  "language_info": {
   "codemirror_mode": {
    "name": "ipython",
    "version": 3
   },
   "file_extension": ".py",
   "mimetype": "text/x-python",
   "name": "python",
   "nbconvert_exporter": "python",
   "pygments_lexer": "ipython3",
   "version": "3.9.13"
  }
 },
 "nbformat": 4,
 "nbformat_minor": 5
}
