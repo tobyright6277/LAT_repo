{
 "cells": [
  {
   "cell_type": "code",
   "execution_count": 73,
   "id": "5d3a2d15",
   "metadata": {},
   "outputs": [],
   "source": [
    "import openai"
   ]
  },
  {
   "cell_type": "code",
   "execution_count": 74,
   "id": "e72e507b",
   "metadata": {},
   "outputs": [],
   "source": [
    "import pandas as pd"
   ]
  },
  {
   "cell_type": "code",
   "execution_count": 75,
   "id": "90b0d9f2",
   "metadata": {},
   "outputs": [],
   "source": [
    "with open('01.txt', 'r') as fh:\n",
    "    tmp = fh.read()\n",
    "    itemlist = tmp.split(',')"
   ]
  },
  {
   "cell_type": "code",
   "execution_count": 76,
   "id": "0db3e232",
   "metadata": {},
   "outputs": [],
   "source": [
    "itemlist = str(itemlist)"
   ]
  },
  {
   "cell_type": "code",
   "execution_count": 77,
   "id": "fb9e0948",
   "metadata": {},
   "outputs": [],
   "source": [
    "keyfile = open(\"key.txt\", \"r\")\n",
    "key = keyfile.readline()\n",
    "openai.api_key = key"
   ]
  },
  {
   "cell_type": "code",
   "execution_count": 78,
   "id": "4b5ed0d1",
   "metadata": {},
   "outputs": [],
   "source": [
    "data = [itemlist[0:3200], itemlist[3201:6400], \n",
    "        itemlist[6401:9600], itemlist[9601:12800], itemlist[12801:16000]]"
   ]
  },
  {
   "cell_type": "code",
   "execution_count": 79,
   "id": "03f9c791",
   "metadata": {},
   "outputs": [
    {
     "data": {
      "text/plain": [
       "\"['ï»¿Early civilizations often built drainage systems in urban areas to handle rainwater that ran down the street during a storm. The Romans constructed elaborate systems that also drained wastewater from the public baths. However', ' as the population of the cities grew', ' the old drainage systems became overloaded. During the Industrial Revolution', ' manufacturing waste was added to sewage', ' which increased the need for more efficient sewage treatment. In the mid-19th century', ' the first steps were taken to treat wastewater. \\\\n\\\\n\\\\n  Sewage or wastewater treatment in modern times is the process of removing harmful physical', ' chemical', ' and biological elements from wastewater and house sewage. The whole process starts with screening out large objects such as paper and wood', ' and removing heavy materials like dirt. The screened wastewater is then ready to go through a series of concrete tanks for further treatment. In the second step', ' the sewage passes into the primary tanks. Here', ' human waste', ' called sludge', ' settles to the bottom while oils and grease float to the top', ' where they are collected. At the same time', ' organic matter like eggshells or coffee grounds in the sewage is broken down into smaller substances. The remaining sewage then enters the secondary tanks for the third stage of treatment. The solids that were not treated in the primary tanks are removed here through decomposition', ' which digests the material. Then', ' the liquid sewage is filtered through sand. This filtering process gets rid of almost all bacteria', ' as well as other solid particles that remain in the water. Finally', ' the wastewater flows into the last tanks', ' where the chemical chlorine is added to kill the remaining bacteria. After the bacteria are destroyed', ' the chlorine is eliminated from the water', ' and the treated clean water is discharged into a river or the ocean.']\""
      ]
     },
     "execution_count": 79,
     "metadata": {},
     "output_type": "execute_result"
    }
   ],
   "source": [
    "data[0]"
   ]
  },
  {
   "cell_type": "code",
   "execution_count": 84,
   "id": "a45d2a04",
   "metadata": {},
   "outputs": [],
   "source": [
    "def chatgptfn(sub_list):\n",
    "    result = ''\n",
    "    response = openai.ChatCompletion.create(\n",
    "        model=\"gpt-3.5-turbo\",\n",
    "        messages=[\n",
    "            {\"role\": \"system\", \"content\": \"You are an assistant\"},\n",
    "            {\"role\": \"user\", \"content\": f\"{sub_list} :give me a summary\"}\n",
    "        ]\n",
    "    )\n",
    "    for choice in response.choices:\n",
    "        result += choice.message.content\n",
    "    return result"
   ]
  },
  {
   "cell_type": "code",
   "execution_count": null,
   "id": "659b4c34",
   "metadata": {},
   "outputs": [],
   "source": [
    "import gensim\n",
    "from gensim import corpora\n",
    "from pprint import pprint"
   ]
  },
  {
   "cell_type": "code",
   "execution_count": 71,
   "id": "e561f8ee",
   "metadata": {},
   "outputs": [],
   "source": [
    "# 創建詞袋\n",
    "texts = [[word for word in document.lower().split()] for document in data]\n",
    "dictionary = corpora.Dictionary(texts)\n",
    "corpus = [dictionary.doc2bow(text) for text in texts]"
   ]
  },
  {
   "cell_type": "code",
   "execution_count": 72,
   "id": "99370b3b",
   "metadata": {},
   "outputs": [],
   "source": [
    "# 訓練 LDA 模型\n",
    "lda_model = gensim.models.ldamodel.LdaModel(corpus=corpus, id2word=dictionary, \n",
    "                                            num_topics=3, random_state=100, update_every=1, \n",
    "                                            chunksize=100, passes=10, alpha='auto', per_word_topics=True)"
   ]
  },
  {
   "cell_type": "code",
   "execution_count": 30,
   "id": "caac5501",
   "metadata": {
    "scrolled": true
   },
   "outputs": [
    {
     "name": "stderr",
     "output_type": "stream",
     "text": [
      "C:\\Users\\user\\anaconda3\\lib\\site-packages\\pyLDAvis\\_prepare.py:243: FutureWarning: In a future version of pandas all arguments of DataFrame.drop except for the argument 'labels' will be keyword-only.\n",
      "  default_term_info = default_term_info.sort_values(\n"
     ]
    },
    {
     "data": {
      "text/html": [
       "\n",
       "<link rel=\"stylesheet\" type=\"text/css\" href=\"https://cdn.jsdelivr.net/gh/bmabey/pyLDAvis@3.4.0/pyLDAvis/js/ldavis.v1.0.0.css\">\n",
       "\n",
       "\n",
       "<div id=\"ldavis_el836821017244071683450709820\" style=\"background-color:white;\"></div>\n",
       "<script type=\"text/javascript\">\n",
       "\n",
       "var ldavis_el836821017244071683450709820_data = {\"mdsDat\": {\"x\": [0.04357151608367855, -0.01992412097524162, -0.02364739510843695], \"y\": [-0.0, -0.0, -0.0], \"topics\": [1, 2, 3], \"cluster\": [1, 1, 1], \"Freq\": [99.92653089459175, 0.03859752537473937, 0.03487158003351534]}, \"tinfo\": {\"Term\": [\"the\", \"'\", \"to\", \"in\", \"is\", \"and\", \"sewage\", \"wastewater\", \"of\", \"as\", \"that\", \"into\", \"process\", \"systems\", \"or\", \"a\", \"through\", \"tanks\", \"are\", \"for\", \"from\", \"treatment.\", \"then\", \"down\", \"added\", \"were\", \"which\", \"primary\", \"where\", \"removing\", \"the\", \"'\", \"is\", \"in\", \"to\", \"sewage\", \"and\", \"of\", \"wastewater\", \"into\", \"that\", \"as\", \"treatment.\", \"from\", \"for\", \"are\", \"tanks\", \"through\", \"a\", \"or\", \"systems\", \"process\", \"chlorine\", \"treated\", \"remaining\", \"drainage\", \"like\", \"removing\", \"where\", \"during\", \"smaller\", \"rainwater\", \"urban\", \"often\", \"dirt.\", \"almost\", \"with\", \"well\", \"matter\", \"drained\", \"century',\", \"discharged\", \"grounds\", \"sludge',\", \"flows\", \"harmful\", \"built\", \"destroyed',\", \"after\", \"water.\", \"ocean.']\", \"go\", \"large\", \"physical',\", \"time',\", \"rid\", \"however',\", \"civilizations\", \"secondary\", \"removed\", \"oils\", \"passes\", \"the\", \"'\", \"to\", \"is\", \"in\", \"and\", \"sewage\", \"as\", \"that\", \"of\", \"process\", \"or\", \"then\", \"wastewater\", \"systems\", \"added\", \"a\", \"down\", \"into\", \"through\", \"tanks\", \"are\", \"for\", \"from\", \"which\", \"were\", \"treatment.\", \"primary\", \"during\", \"where\", \"second\", \"rid\", \"century',\", \"rainwater\", \"times\", \"drained\", \"harmful\", \"waste',\", \"destroyed',\", \"secondary\", \"smaller\", \"often\", \"almost\", \"with\", \"materials\", \"filtered\", \"however',\", \"clean\", \"storm.\", \"ocean.']\", \"after\", \"well\", \"built\", \"last\", \"urban\", \"here\", \"handle\", \"matter\", \"this\", \"at\", \"while\", \"\\\\n\\\\n\\\\n\", \"material.\", \"more\", \"they\", \"remain\", \"human\", \"wastewater.\", \"bacteria',\", \"steps\", \"third\", \"constructed\", \"the\", \"'\", \"wastewater\", \"to\", \"in\", \"as\", \"and\", \"is\", \"sewage\", \"into\", \"systems\", \"that\", \"process\", \"of\", \"a\", \"for\", \"through\", \"tanks\", \"treatment.\", \"are\", \"from\", \"down\", \"were\", \"which\", \"removing\", \"or\", \"treated\", \"added\", \"like\", \"primary\"], \"Freq\": [31.0, 17.0, 6.0, 6.0, 6.0, 5.0, 5.0, 4.0, 4.0, 3.0, 3.0, 3.0, 2.0, 2.0, 2.0, 2.0, 2.0, 2.0, 2.0, 2.0, 2.0, 2.0, 1.0, 1.0, 1.0, 1.0, 1.0, 1.0, 1.0, 1.0, 31.296643434904926, 17.879424502832258, 6.15076119665636, 6.149112077689717, 6.145682264253901, 5.311580311863021, 5.310468705375308, 4.473618418048245, 4.472815394465561, 3.6350526339786007, 3.632661263970798, 3.6313876957097957, 2.7970107918203615, 2.796593644375132, 2.796091828389039, 2.7959183611345866, 2.7954944284055943, 2.795238062684304, 2.7947737132650734, 2.794548323839221, 2.7940258569895025, 2.7933620792301195, 1.958740167594389, 1.9586057894746562, 1.9579462893941675, 1.9575500878249004, 1.9573974189402423, 1.9571916478348337, 1.9571681943540022, 1.957166571786146, 0.0006701492869042485, 0.0006695464281825458, 0.000669616109329568, 0.0006691309052019789, 0.000669056039276233, 0.0006688677349500608, 0.0006687306516796311, 0.0006687583987921412, 0.0006686950989112404, 0.0006685698095880172, 0.0006685091305842734, 0.0006685961323107681, 0.0006685937963115629, 0.0006684960261984883, 0.0006684843462024625, 0.0006683424769824418, 0.0006684023583279204, 0.0006682175864883512, 0.0006682161620985919, 0.0006682941616818082, 0.0006681849394750693, 0.0006681180501319752, 0.0006680873402887658, 0.0006680982226265265, 0.0006679936154426075, 0.0006678134586258583, 0.0006678531136367556, 0.0006679223959546453, 0.0006677787035157327, 0.000667882911870519, 0.0006678939651350508, 0.000667851632271406, 0.0009294609239400983, 0.000830547709595952, 0.000712660826000401, 0.000707189574008371, 0.00070645447494142, 0.0007029769128076096, 0.000700767057559527, 0.0006906518391476362, 0.0006904123137657216, 0.0006931779089222711, 0.0006842278983090329, 0.0006840766850921915, 0.0006785604223837693, 0.0006884686484758466, 0.0006818695646724466, 0.0006770068119855659, 0.0006814264085305504, 0.0006762293230793797, 0.0006840121317483025, 0.0006807831541152755, 0.0006801866196841038, 0.0006796080325638986, 0.0006787398954934341, 0.0006783600392324387, 0.0006758696931529656, 0.000675722297300679, 0.0006770259557839301, 0.0006743882708277608, 0.0006741555255411002, 0.0006737242772975913, 0.0006071276575554758, 0.0006069569131550745, 0.0006068043396239352, 0.0006065905616634689, 0.0006071545792682916, 0.0006067375243596237, 0.0006067386053461804, 0.0006071548881215936, 0.0006067310899158341, 0.0006067976992779442, 0.0006063575833227344, 0.0006065250847634657, 0.000606555661240354, 0.0006065562274714074, 0.000606817620315917, 0.0006068650807733091, 0.000606655884136821, 0.0006068489689260599, 0.0006066648923581266, 0.0006065591101022252, 0.0006065519035251809, 0.0006063958296566199, 0.0006064511658732106, 0.0006067277440050636, 0.0006062211731143945, 0.0006066487805108774, 0.0006068651837244098, 0.00060634389082635, 0.0006068646174933563, 0.0006064713957644851, 0.0006067291853204724, 0.0006065933928187363, 0.0006065149955556036, 0.0006068642056889538, 0.0006066600021808464, 0.0006066551120035664, 0.0006066651497358781, 0.0006066681867933468, 0.000606646772964415, 0.0006066208807626055, 0.0006066028128444443, 0.0006066047689153564, 0.0006520644231423082, 0.0006257990235930882, 0.0006162445952232102, 0.0006179156460131491, 0.0006162182397414479, 0.0006130747308346929, 0.0006122407239684578, 0.0006119902439406155, 0.0006118719531259871, 0.0006112664977031594, 0.0006111986529278416, 0.0006105503183715997, 0.0006104658984690799, 0.0006101948796966612, 0.0006099939191482239, 0.0006096179932042592, 0.0006095839678654997, 0.0006095779452261127, 0.000609209328810293, 0.0006091949156562043, 0.0006088846725144441, 0.0006088697960804025, 0.0006086417593924984, 0.0006082058129568643, 0.0006080680129086658, 0.0006080493272839008, 0.0006079582155598397, 0.0006079078209960795, 0.0006079075121427776, 0.0006078926357087359], \"Total\": [31.0, 17.0, 6.0, 6.0, 6.0, 5.0, 5.0, 4.0, 4.0, 3.0, 3.0, 3.0, 2.0, 2.0, 2.0, 2.0, 2.0, 2.0, 2.0, 2.0, 2.0, 2.0, 1.0, 1.0, 1.0, 1.0, 1.0, 1.0, 1.0, 1.0, 31.29822496025201, 17.880880849565447, 6.152080376474308, 6.1504347504044, 6.147012840725915, 5.312892950873707, 5.311783923012084, 4.474921790836864, 4.47412010770926, 3.636347912608052, 3.6339622266029354, 3.632691422279778, 2.7982970271049554, 2.797880889086879, 2.7973801862777368, 2.7972071640828067, 2.7967841929705046, 2.7965284298062847, 2.796065133592752, 2.795840449851597, 2.795318925207103, 2.794656773026898, 1.9600178368628147, 1.9598837608624349, 1.959225865879578, 1.9588305720033479, 1.958678234497375, 1.9584729321306762, 1.9584495713394685, 1.9584479879305892, 1.1185947284494322, 1.1187427497748152, 1.1188844985079212, 1.1189497362012841, 1.119345372863345, 1.1190473739504758, 1.1191053548639245, 1.1191679860880261, 1.119218907983703, 1.1190897396648336, 1.1190845093321033, 1.1192773337568205, 1.1194102445740333, 1.1193068365372913, 1.1193430441477392, 1.119185761188325, 1.1192935081457236, 1.1192421973981166, 1.1193258740442718, 1.1194632812595775, 1.1193358804477003, 1.1194765137160374, 1.1194636322218272, 1.1194868148934474, 1.1195244129373378, 1.119309281906444, 1.1194319669240915, 1.1196133825155312, 1.119397812897961, 1.1195947598393408, 1.1196305279494074, 1.1196166887050654, 31.29822496025201, 17.880880849565447, 6.147012840725915, 6.152080376474308, 6.1504347504044, 5.311783923012084, 5.312892950873707, 3.632691422279778, 3.6339622266029354, 4.474921790836864, 2.794656773026898, 2.795840449851597, 1.9565001680615681, 4.47412010770926, 2.795318925207103, 1.9569373355968913, 2.796065133592752, 1.956822022752937, 3.636347912608052, 2.7965284298062847, 2.7967841929705046, 2.7972071640828067, 2.7973801862777368, 2.797880889086879, 1.9572822509295735, 1.9571428511383488, 2.7982970271049554, 1.9580563387776342, 1.9584479879305892, 1.9584495713394685, 1.1194953504894434, 1.119309281906444, 1.1190845093321033, 1.1187427497748152, 1.1198014399306102, 1.1190897396648336, 1.119185761188325, 1.1199859048400929, 1.1192421973981166, 1.119397812897961, 1.1185947284494322, 1.1189497362012841, 1.1190473739504758, 1.1191053548639245, 1.1196292200459441, 1.119730682434245, 1.1194319669240915, 1.1198349464266457, 1.1195301217680254, 1.1193358804477003, 1.1193258740442718, 1.1191679860880261, 1.1192935081457236, 1.1198044217582734, 1.1188844985079212, 1.1196801528938711, 1.1201807704083422, 1.119218907983703, 1.1201857001315485, 1.1195292564370782, 1.1200570949848065, 1.1198094373640957, 1.1196375619227346, 1.1205707438693229, 1.1200913159720498, 1.1201397318449897, 1.1202040399259363, 1.1202921146522828, 1.120162468938989, 1.1200681417724347, 1.1203098532280489, 1.1204828393158703, 31.29822496025201, 17.880880849565447, 4.47412010770926, 6.147012840725915, 6.1504347504044, 3.632691422279778, 5.311783923012084, 6.152080376474308, 5.312892950873707, 3.636347912608052, 2.795318925207103, 3.6339622266029354, 2.794656773026898, 4.474921790836864, 2.796065133592752, 2.7973801862777368, 2.7965284298062847, 2.7967841929705046, 2.7982970271049554, 2.7972071640828067, 2.797880889086879, 1.956822022752937, 1.9571428511383488, 1.9572822509295735, 1.9584729321306762, 2.795840449851597, 1.9598837608624349, 1.9569373355968913, 1.958678234497375, 1.9580563387776342], \"Category\": [\"Default\", \"Default\", \"Default\", \"Default\", \"Default\", \"Default\", \"Default\", \"Default\", \"Default\", \"Default\", \"Default\", \"Default\", \"Default\", \"Default\", \"Default\", \"Default\", \"Default\", \"Default\", \"Default\", \"Default\", \"Default\", \"Default\", \"Default\", \"Default\", \"Default\", \"Default\", \"Default\", \"Default\", \"Default\", \"Default\", \"Topic1\", \"Topic1\", \"Topic1\", \"Topic1\", \"Topic1\", \"Topic1\", \"Topic1\", \"Topic1\", \"Topic1\", \"Topic1\", \"Topic1\", \"Topic1\", \"Topic1\", \"Topic1\", \"Topic1\", \"Topic1\", \"Topic1\", \"Topic1\", \"Topic1\", \"Topic1\", \"Topic1\", \"Topic1\", \"Topic1\", \"Topic1\", \"Topic1\", \"Topic1\", \"Topic1\", \"Topic1\", \"Topic1\", \"Topic1\", \"Topic2\", \"Topic2\", \"Topic2\", \"Topic2\", \"Topic2\", \"Topic2\", \"Topic2\", \"Topic2\", \"Topic2\", \"Topic2\", \"Topic2\", \"Topic2\", \"Topic2\", \"Topic2\", \"Topic2\", \"Topic2\", \"Topic2\", \"Topic2\", \"Topic2\", \"Topic2\", \"Topic2\", \"Topic2\", \"Topic2\", \"Topic2\", \"Topic2\", \"Topic2\", \"Topic2\", \"Topic2\", \"Topic2\", \"Topic2\", \"Topic2\", \"Topic2\", \"Topic2\", \"Topic2\", \"Topic2\", \"Topic2\", \"Topic2\", \"Topic2\", \"Topic2\", \"Topic2\", \"Topic2\", \"Topic2\", \"Topic2\", \"Topic2\", \"Topic2\", \"Topic2\", \"Topic2\", \"Topic2\", \"Topic2\", \"Topic2\", \"Topic2\", \"Topic2\", \"Topic2\", \"Topic2\", \"Topic2\", \"Topic2\", \"Topic2\", \"Topic2\", \"Topic2\", \"Topic2\", \"Topic2\", \"Topic2\", \"Topic3\", \"Topic3\", \"Topic3\", \"Topic3\", \"Topic3\", \"Topic3\", \"Topic3\", \"Topic3\", \"Topic3\", \"Topic3\", \"Topic3\", \"Topic3\", \"Topic3\", \"Topic3\", \"Topic3\", \"Topic3\", \"Topic3\", \"Topic3\", \"Topic3\", \"Topic3\", \"Topic3\", \"Topic3\", \"Topic3\", \"Topic3\", \"Topic3\", \"Topic3\", \"Topic3\", \"Topic3\", \"Topic3\", \"Topic3\", \"Topic3\", \"Topic3\", \"Topic3\", \"Topic3\", \"Topic3\", \"Topic3\", \"Topic3\", \"Topic3\", \"Topic3\", \"Topic3\", \"Topic3\", \"Topic3\", \"Topic3\", \"Topic3\", \"Topic3\", \"Topic3\", \"Topic3\", \"Topic3\", \"Topic3\", \"Topic3\", \"Topic3\", \"Topic3\", \"Topic3\", \"Topic3\", \"Topic3\", \"Topic3\", \"Topic3\", \"Topic3\", \"Topic3\", \"Topic3\", \"Topic3\", \"Topic3\", \"Topic3\", \"Topic3\", \"Topic3\", \"Topic3\", \"Topic3\", \"Topic3\", \"Topic3\", \"Topic3\", \"Topic3\", \"Topic3\"], \"logprob\": [30.0, 29.0, 28.0, 27.0, 26.0, 25.0, 24.0, 23.0, 22.0, 21.0, 20.0, 19.0, 18.0, 17.0, 16.0, 15.0, 14.0, 13.0, 12.0, 11.0, 10.0, 9.0, 8.0, 7.0, 6.0, 5.0, 4.0, 3.0, 2.0, 1.0, -2.3147, -2.8745, -3.9416, -3.9419, -3.9424, -4.0883, -4.0885, -4.26, -4.2601, -4.4675, -4.4682, -4.4686, -4.7296, -4.7298, -4.7299, -4.73, -4.7302, -4.7302, -4.7304, -4.7305, -4.7307, -4.7309, -5.0859, -5.0859, -5.0863, -5.0865, -5.0866, -5.0867, -5.0867, -5.0867, -5.2072, -5.2081, -5.208, -5.2087, -5.2088, -5.2091, -5.2093, -5.2093, -5.2093, -5.2095, -5.2096, -5.2095, -5.2095, -5.2096, -5.2097, -5.2099, -5.2098, -5.2101, -5.2101, -5.2099, -5.2101, -5.2102, -5.2103, -5.2102, -5.2104, -5.2107, -5.2106, -5.2105, -5.2107, -5.2106, -5.2105, -5.2106, -4.8801, -4.9926, -5.1457, -5.1534, -5.1544, -5.1594, -5.1625, -5.177, -5.1774, -5.1734, -5.1864, -5.1866, -5.1947, -5.1802, -5.1898, -5.197, -5.1905, -5.1981, -5.1867, -5.1914, -5.1923, -5.1932, -5.1944, -5.195, -5.1987, -5.1989, -5.197, -5.2009, -5.2012, -5.2019, -5.2044, -5.2047, -5.205, -5.2053, -5.2044, -5.2051, -5.2051, -5.2044, -5.2051, -5.205, -5.2057, -5.2054, -5.2054, -5.2054, -5.2049, -5.2049, -5.2052, -5.2049, -5.2052, -5.2054, -5.2054, -5.2056, -5.2055, -5.2051, -5.2059, -5.2052, -5.2049, -5.2057, -5.2049, -5.2055, -5.2051, -5.2053, -5.2054, -5.2049, -5.2052, -5.2052, -5.2052, -5.2052, -5.2052, -5.2053, -5.2053, -5.2053, -5.133, -5.1741, -5.1895, -5.1868, -5.1896, -5.1947, -5.196, -5.1964, -5.1966, -5.1976, -5.1977, -5.1988, -5.1989, -5.1994, -5.1997, -5.2003, -5.2004, -5.2004, -5.201, -5.201, -5.2015, -5.2016, -5.2019, -5.2026, -5.2029, -5.2029, -5.2031, -5.2031, -5.2031, -5.2032], \"loglift\": [30.0, 29.0, 28.0, 27.0, 26.0, 25.0, 24.0, 23.0, 22.0, 21.0, 20.0, 19.0, 18.0, 17.0, 16.0, 15.0, 14.0, 13.0, 12.0, 11.0, 10.0, 9.0, 8.0, 7.0, 6.0, 5.0, 4.0, 3.0, 2.0, 1.0, 0.0007, 0.0007, 0.0005, 0.0005, 0.0005, 0.0005, 0.0005, 0.0004, 0.0004, 0.0004, 0.0004, 0.0004, 0.0003, 0.0003, 0.0003, 0.0003, 0.0003, 0.0003, 0.0003, 0.0003, 0.0003, 0.0003, 0.0001, 0.0001, 0.0001, 0.0001, 0.0001, 0.0001, 0.0001, 0.0001, 0.4397, 0.4386, 0.4386, 0.4378, 0.4374, 0.4373, 0.4371, 0.4371, 0.4369, 0.4369, 0.4368, 0.4367, 0.4366, 0.4365, 0.4365, 0.4364, 0.4364, 0.4362, 0.4361, 0.4361, 0.4361, 0.4358, 0.4358, 0.4358, 0.4356, 0.4355, 0.4355, 0.4354, 0.4354, 0.4354, 0.4354, 0.4353, -2.5647, -2.1174, -1.2027, -1.2113, -1.212, -1.0704, -1.0737, -0.7081, -0.7088, -0.913, -0.4552, -0.4558, -0.107, -0.9196, -0.4589, -0.1095, -0.4598, -0.1106, -0.7188, -0.4609, -0.4619, -0.4629, -0.4642, -0.465, -0.1113, -0.1115, -0.4671, -0.1139, -0.1145, -0.1151, 0.4416, 0.4415, 0.4414, 0.4414, 0.4414, 0.4413, 0.4412, 0.4412, 0.4412, 0.4411, 0.4411, 0.4411, 0.4411, 0.441, 0.441, 0.441, 0.4409, 0.4408, 0.4408, 0.4408, 0.4408, 0.4407, 0.4407, 0.4407, 0.4407, 0.4406, 0.4406, 0.4406, 0.4406, 0.4405, 0.4404, 0.4404, 0.4405, 0.4402, 0.4403, 0.4402, 0.4402, 0.4401, 0.4402, 0.4403, 0.44, 0.4399, -2.8177, -2.299, -0.9289, -1.2439, -1.2472, -0.7257, -1.1071, -1.2543, -1.1079, -0.7297, -0.4668, -0.7302, -0.4677, -0.939, -0.469, -0.4701, -0.4699, -0.47, -0.4711, -0.4707, -0.4715, -0.114, -0.1145, -0.1153, -0.1161, -0.4721, -0.117, -0.1156, -0.1165, -0.1162]}, \"token.table\": {\"Topic\": [1, 1, 1, 1, 1, 1, 1, 1, 1, 1, 1, 1, 1, 1, 1, 1, 1, 1, 1, 1, 1, 1, 1, 1, 1, 1, 1, 1, 1, 1, 1, 1, 1, 1, 1, 1, 1, 1, 1, 1, 1, 1, 1, 1, 1, 1, 1, 1, 1, 1, 1, 1, 1, 1, 1, 1, 1, 1, 1, 1, 1, 1, 1, 1, 1, 1, 1, 1, 1, 1, 1, 1, 1, 1, 1, 1, 1, 1, 1, 1, 1, 1, 1, 1, 1, 1, 1, 1, 1, 1, 1, 1], \"Freq\": [1.006661816687708, 0.8930090840758464, 1.0729363790410724, 1.0220051320089787, 0.8933948756021054, 0.8936172169993007, 0.9413033497726909, 1.0724983256589393, 1.1011119676908063, 0.893232574539872, 0.8927276423992261, 0.8934207093335589, 0.8935875634600859, 1.0203988771863324, 0.8931654583774395, 0.8929887419489498, 0.8924723921792206, 0.893461667478838, 0.8933793128049003, 0.8934336199264665, 1.0220653573728278, 1.0210173501399598, 0.8935833870655441, 1.0212168065353204, 0.8930718928109072, 0.8933811714186277, 1.0724319900155845, 1.0722400698691232, 0.8932746580636676, 0.8933275399677335, 0.8927130570501292, 0.8935067212955101, 0.8931121958493669, 0.893310205128178, 0.8926945131050557, 0.9755407940236244, 1.1000047564566313, 0.9752798456509334, 0.8932849368364698, 0.8930130838649831, 1.0210967604453054, 0.8931461698040185, 0.8931528242528047, 0.8934802591939066, 0.8924023810821681, 0.8933868890185406, 0.8938703706935518, 0.8936951925963128, 0.8931517809106996, 1.0730226040471085, 0.893162820890592, 0.8932664384217691, 1.0214210696555086, 1.0734770827512727, 0.8938605413990695, 0.8927457633815856, 1.0208113494367923, 0.8931803147627251, 1.0212037997503214, 0.8934081188862898, 0.89325962770886, 0.8933374609792589, 0.9411068595270207, 0.8934100707305771, 0.8939788241145877, 0.8928028239581614, 0.8932318841236209, 1.0732227986392402, 1.0726605247341794, 1.1007269064927074, 0.9904715056323242, 1.0222334925641892, 0.8927843522580738, 0.8926101980792284, 0.8927091283905565, 1.0727586274557595, 0.8932364390127615, 0.8930154617964826, 0.9760838565763345, 1.0204686828569427, 1.07208061579643, 0.8937473003992292, 0.8928683795737377, 0.8940305364417209, 0.892624331565862, 0.8932852168896849, 0.893520912347958, 1.0218978133541574, 1.0212159808802803, 1.021825032669733, 0.8928116294049857, 0.8935709186393743], \"Term\": [\"'\", \"\\\\n\\\\n\\\\n\", \"a\", \"added\", \"after\", \"almost\", \"and\", \"are\", \"as\", \"at\", \"bacteria',\", \"built\", \"century',\", \"chlorine\", \"civilizations\", \"clean\", \"constructed\", \"destroyed',\", \"dirt.\", \"discharged\", \"down\", \"drainage\", \"drained\", \"during\", \"filtered\", \"flows\", \"for\", \"from\", \"go\", \"grounds\", \"handle\", \"harmful\", \"here\", \"however',\", \"human\", \"in\", \"into\", \"is\", \"large\", \"last\", \"like\", \"material.\", \"materials\", \"matter\", \"more\", \"ocean.']\", \"of\", \"often\", \"oils\", \"or\", \"passes\", \"physical',\", \"primary\", \"process\", \"rainwater\", \"remain\", \"remaining\", \"removed\", \"removing\", \"rid\", \"second\", \"secondary\", \"sewage\", \"sludge',\", \"smaller\", \"steps\", \"storm.\", \"systems\", \"tanks\", \"that\", \"the\", \"then\", \"they\", \"third\", \"this\", \"through\", \"time',\", \"times\", \"to\", \"treated\", \"treatment.\", \"urban\", \"waste',\", \"wastewater\", \"wastewater.\", \"water.\", \"well\", \"were\", \"where\", \"which\", \"while\", \"with\"]}, \"R\": 30, \"lambda.step\": 0.01, \"plot.opts\": {\"xlab\": \"PC1\", \"ylab\": \"PC2\"}, \"topic.order\": [2, 3, 1]};\n",
       "\n",
       "function LDAvis_load_lib(url, callback){\n",
       "  var s = document.createElement('script');\n",
       "  s.src = url;\n",
       "  s.async = true;\n",
       "  s.onreadystatechange = s.onload = callback;\n",
       "  s.onerror = function(){console.warn(\"failed to load library \" + url);};\n",
       "  document.getElementsByTagName(\"head\")[0].appendChild(s);\n",
       "}\n",
       "\n",
       "if(typeof(LDAvis) !== \"undefined\"){\n",
       "   // already loaded: just create the visualization\n",
       "   !function(LDAvis){\n",
       "       new LDAvis(\"#\" + \"ldavis_el836821017244071683450709820\", ldavis_el836821017244071683450709820_data);\n",
       "   }(LDAvis);\n",
       "}else if(typeof define === \"function\" && define.amd){\n",
       "   // require.js is available: use it to load d3/LDAvis\n",
       "   require.config({paths: {d3: \"https://d3js.org/d3.v5\"}});\n",
       "   require([\"d3\"], function(d3){\n",
       "      window.d3 = d3;\n",
       "      LDAvis_load_lib(\"https://cdn.jsdelivr.net/gh/bmabey/pyLDAvis@3.4.0/pyLDAvis/js/ldavis.v3.0.0.js\", function(){\n",
       "        new LDAvis(\"#\" + \"ldavis_el836821017244071683450709820\", ldavis_el836821017244071683450709820_data);\n",
       "      });\n",
       "    });\n",
       "}else{\n",
       "    // require.js not available: dynamically load d3 & LDAvis\n",
       "    LDAvis_load_lib(\"https://d3js.org/d3.v5.js\", function(){\n",
       "         LDAvis_load_lib(\"https://cdn.jsdelivr.net/gh/bmabey/pyLDAvis@3.4.0/pyLDAvis/js/ldavis.v3.0.0.js\", function(){\n",
       "                 new LDAvis(\"#\" + \"ldavis_el836821017244071683450709820\", ldavis_el836821017244071683450709820_data);\n",
       "            })\n",
       "         });\n",
       "}\n",
       "</script>"
      ],
      "text/plain": [
       "<IPython.core.display.HTML object>"
      ]
     },
     "execution_count": 30,
     "metadata": {},
     "output_type": "execute_result"
    }
   ],
   "source": [
    "# 輸出主題模型分析結果\n",
    "import pyLDAvis.gensim\n",
    "pyLDAvis.enable_notebook()\n",
    "vis = pyLDAvis.gensim.prepare(lda_model, corpus, dictionary)\n",
    "pyLDAvis.display(vis)"
   ]
  },
  {
   "cell_type": "code",
   "execution_count": null,
   "id": "d1adde46",
   "metadata": {},
   "outputs": [],
   "source": []
  }
 ],
 "metadata": {
  "kernelspec": {
   "display_name": "Python 3 (ipykernel)",
   "language": "python",
   "name": "python3"
  },
  "language_info": {
   "codemirror_mode": {
    "name": "ipython",
    "version": 3
   },
   "file_extension": ".py",
   "mimetype": "text/x-python",
   "name": "python",
   "nbconvert_exporter": "python",
   "pygments_lexer": "ipython3",
   "version": "3.9.13"
  }
 },
 "nbformat": 4,
 "nbformat_minor": 5
}
